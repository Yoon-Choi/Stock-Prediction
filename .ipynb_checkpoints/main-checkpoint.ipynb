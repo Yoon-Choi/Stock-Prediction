{
 "cells": [
  {
   "cell_type": "code",
   "execution_count": 12,
   "id": "7cd6623c-a891-412c-8847-2ac3dc92245e",
   "metadata": {
    "tags": []
   },
   "outputs": [],
   "source": [
    "import numpy as np # linear algebra\n",
    "import pandas as pd # data processing, CSV file I/O (e.g. pd.read_csv)\n",
    "import matplotlib.pyplot as plt\n",
    "from matplotlib import style\n",
    "import datetime as dt1\n",
    "from datetime import datetime as dt"
   ]
  },
  {
   "cell_type": "code",
   "execution_count": 27,
   "id": "b91eafda-515d-45f0-9173-4e57c0805bc0",
   "metadata": {},
   "outputs": [
    {
     "name": "stdout",
     "output_type": "stream",
     "text": [
      " Volume in drive C is OS\n",
      " Volume Serial Number is ECFE-798C\n",
      "\n",
      " Directory of C:\\Users\\ReDI\\JUPYTER-LAB\\Yoon-Choi\\Stock-Price-Prediction-RNN-LSTM-GRU\\input\n",
      "\n",
      "09/28/2021  07:44 PM    <DIR>          .\n",
      "09/28/2021  07:44 PM    <DIR>          ..\n",
      "09/28/2021  10:14 AM         1,414,934 fundamentals.csv\n",
      "09/27/2021  01:11 PM        52,701,226 prices-split-adjusted.csv\n",
      "09/28/2021  10:14 AM        51,667,341 prices.csv\n",
      "09/27/2021  01:09 PM            61,381 securities.csv\n",
      "               4 File(s)    105,844,882 bytes\n",
      "               2 Dir(s)  42,624,507,904 bytes free\n",
      "\n"
     ]
    }
   ],
   "source": [
    "import subprocess as subp\n",
    "print(subp.check_output([\"dir\",\"C:\\\\Users\\\\ReDI\\\\JUPYTER-LAB\\\\Yoon-Choi\\\\Stock-Price-Prediction-RNN-LSTM-GRU\\\\input\\\\\"],shell=True).decode(\"utf8\"))"
   ]
  },
  {
   "cell_type": "code",
   "execution_count": 28,
   "id": "c5cbcfcf-c753-4884-a5a0-92097ef7bb9d",
   "metadata": {},
   "outputs": [
    {
     "name": "stdout",
     "output_type": "stream",
     "text": [
      "              date symbol       open      close        low       high  \\\n",
      "848874  2016-12-23   CSCO  30.540001  30.530001  30.400000  30.600000   \n",
      "849374  2016-12-27   CSCO  30.639999  30.680000  30.600000  30.820000   \n",
      "849874  2016-12-28   CSCO  30.700001  30.420000  30.350000  30.770000   \n",
      "850374  2016-12-29   CSCO  30.370001  30.459999  30.330000  30.549999   \n",
      "850874  2016-12-30   CSCO  30.559999  30.219999  30.129999  30.600000   \n",
      "\n",
      "            volume  \n",
      "848874   9167500.0  \n",
      "849374  14175500.0  \n",
      "849874  12022200.0  \n",
      "850374  10995600.0  \n",
      "850874  20190000.0  \n"
     ]
    }
   ],
   "source": [
    "df=pd.read_csv('C:\\\\Users\\\\ReDI\\\\JUPYTER-LAB\\\\Yoon-Choi\\\\Stock-Price-Prediction-RNN-LSTM-GRU\\\\input\\\\prices.csv')\n",
    "df.tail()\n",
    "df=df.loc[df['symbol'] == 'CSCO']\n",
    "print(df.tail())\n"
   ]
  },
  {
   "cell_type": "code",
   "execution_count": 39,
   "id": "f36b18fa-33c3-4dfe-aa43-f754ed2f0136",
   "metadata": {},
   "outputs": [],
   "source": [
    "from sklearn import preprocessing, svm \n",
    "import math\n",
    "from sklearn.model_selection import cross_validate\n",
    "from sklearn.linear_model import LinearRegression\n",
    "from sklearn.model_selection import train_test_split"
   ]
  },
  {
   "cell_type": "code",
   "execution_count": 45,
   "id": "2b0387d0-eb56-4a44-8ff9-5ed5987d2ffb",
   "metadata": {},
   "outputs": [
    {
     "name": "stdout",
     "output_type": "stream",
     "text": [
      "18\n",
      "            date symbol       open      close        low       high  \\\n",
      "356   2010-01-04   CSCO  24.110001  24.690001  24.010000  24.840000   \n",
      "824   2010-01-05   CSCO  24.600000  24.580000  24.379999  24.730000   \n",
      "1292  2010-01-06   CSCO  24.540001  24.420000  24.340000  24.740000   \n",
      "1760  2010-01-07   CSCO  24.299999  24.530001  24.170000  24.570000   \n",
      "2228  2010-01-08   CSCO  24.379999  24.660000  24.250000  24.700001   \n",
      "\n",
      "          volume      label  \n",
      "356   59853700.0  22.469999  \n",
      "824   45124500.0  22.730000  \n",
      "1292  35715700.0  23.020000  \n",
      "1760  31531200.0  23.070000  \n",
      "2228  39115900.0  23.160000  \n"
     ]
    }
   ],
   "source": [
    "forecast_col = 'close'\n",
    "df.fillna(value=-99999, inplace=True)\n",
    "forecast_out = int(math.ceil(0.01 * len(df)))\n",
    "print(forecast_out)\n",
    "df['label'] = df[forecast_col].shift(-forecast_out)\n",
    "print(df.head())"
   ]
  },
  {
   "cell_type": "code",
   "execution_count": 46,
   "id": "2433091e-e384-491a-b3c3-b37f3fea0c8f",
   "metadata": {},
   "outputs": [],
   "source": [
    "#X = np.array(df.drop(['label'], 1))\n",
    "\n",
    "X = np.array(df.drop(['label','symbol','date'], axis=1))\n",
    "\n",
    "#print(X)\n",
    "X = preprocessing.scale(X)\n",
    "\n",
    "#print(X)\n",
    "X_lately = X[-forecast_out:]\n",
    "\n",
    "#print(X_lately)\n",
    "X = X[:-forecast_out]\n",
    "\n",
    "df.dropna(inplace=True)\n",
    "y = np.array(df['label'])\n",
    "X_train, X_test, y_train, y_test = train_test_split(X, y, test_size=0.2)\n"
   ]
  },
  {
   "cell_type": "code",
   "execution_count": 47,
   "id": "4c284dfa-f5c2-49a4-a2f6-ca45bf51c94b",
   "metadata": {},
   "outputs": [
    {
     "name": "stdout",
     "output_type": "stream",
     "text": [
      "0.8984808431900959\n"
     ]
    }
   ],
   "source": [
    "clf = LinearRegression(n_jobs=-1)\n",
    "clf.fit(X_train, y_train)\n",
    "confidence = clf.score(X_test, y_test)\n",
    "print(confidence)"
   ]
  },
  {
   "cell_type": "code",
   "execution_count": 48,
   "id": "17844fac-7759-48ac-8240-bff50a14bb9d",
   "metadata": {},
   "outputs": [
    {
     "name": "stdout",
     "output_type": "stream",
     "text": [
      "[30.93293383 30.97186749 30.9705781  31.02707626 31.31243035 31.21380272\n",
      " 29.3417864  29.76317764 29.74483516 29.61860866 29.44026724 29.79775029\n",
      " 29.5866566  29.56154209 29.45319855 29.2827445  29.05076718 29.19180185]\n",
      "2016-11-08\n",
      "                    date symbol  open  close  low  high  volume  label  \\\n",
      "2016-11-22 00:00:00  NaN    NaN   NaN    NaN  NaN   NaN     NaN    NaN   \n",
      "2016-11-23 00:00:00  NaN    NaN   NaN    NaN  NaN   NaN     NaN    NaN   \n",
      "2016-11-24 00:00:00  NaN    NaN   NaN    NaN  NaN   NaN     NaN    NaN   \n",
      "2016-11-25 00:00:00  NaN    NaN   NaN    NaN  NaN   NaN     NaN    NaN   \n",
      "2016-11-26 00:00:00  NaN    NaN   NaN    NaN  NaN   NaN     NaN    NaN   \n",
      "\n",
      "                      Forecast  \n",
      "2016-11-22 00:00:00  29.561542  \n",
      "2016-11-23 00:00:00  29.453199  \n",
      "2016-11-24 00:00:00  29.282745  \n",
      "2016-11-25 00:00:00  29.050767  \n",
      "2016-11-26 00:00:00  29.191802  \n"
     ]
    },
    {
     "data": {
      "image/png": "[encoded data removed]",
      "text/plain": [
       "<Figure size 432x288 with 1 Axes>"
      ]
     },
     "metadata": {
      "needs_background": "light"
     },
     "output_type": "display_data"
    }
   ],
   "source": [
    "forecast_set = clf.predict(X_lately)\n",
    "print(forecast_set)\n",
    "df['Forecast'] = np.nan\n",
    "last_date = df.iloc[-1].date\n",
    "print(last_date)\n",
    "last_date=dt.strptime(last_date, '%Y-%m-%d').timestamp()\n",
    "last_unix = last_date\n",
    "one_day = 86400\n",
    "next_unix = last_unix + one_day\n",
    "\n",
    "for i in forecast_set:\n",
    "    next_date = dt.fromtimestamp(next_unix)\n",
    "    next_unix += 86400\n",
    "    df.loc[next_date] = [np.nan for _ in range(len(df.columns)-1)]+[i]\n",
    "print(df.tail())\n",
    "df['close'].plot()\n",
    "df['Forecast'].plot()\n",
    "#plt.legend(loc=4)\n",
    "plt.xlabel('Date')\n",
    "plt.ylabel('Price')\n",
    "plt.show()"
   ]
  }
 ],
 "metadata": {
  "kernelspec": {
   "display_name": "Python 3",
   "language": "python",
   "name": "python3"
  },
  "language_info": {
   "codemirror_mode": {
    "name": "ipython",
    "version": 3
   },
   "file_extension": ".py",
   "mimetype": "text/x-python",
   "name": "python",
   "nbconvert_exporter": "python",
   "pygments_lexer": "ipython3",
   "version": "3.8.8"
  }
 },
 "nbformat": 4,
 "nbformat_minor": 5
}
